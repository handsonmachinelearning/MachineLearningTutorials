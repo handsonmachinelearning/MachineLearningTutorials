{
 "cells": [
  {
   "cell_type": "code",
   "execution_count": 1,
   "metadata": {
    "collapsed": true
   },
   "outputs": [],
   "source": [
    "%matplotlib inline\n",
    "import matplotlib.pyplot as plt\n",
    "plt.style.use('seaborn-whitegrid')\n",
    "import numpy as np"
   ]
  },
  {
   "cell_type": "markdown",
   "metadata": {},
   "source": [
    "<h2>Dataset</h2>"
   ]
  },
  {
   "cell_type": "code",
   "execution_count": 79,
   "metadata": {},
   "outputs": [
    {
     "data": {
      "text/plain": [
       "Text(0,0.5,'Status (1:Won, 0:Lost)')"
      ]
     },
     "execution_count": 79,
     "metadata": {},
     "output_type": "execute_result"
    },
    {
     "data": {
      "image/png": "[encoded data removed]",
      "text/plain": [
       "<Figure size 432x288 with 1 Axes>"
      ]
     },
     "metadata": {},
     "output_type": "display_data"
    }
   ],
   "source": [
    "x = np.array([100,120,150,170,200,200,202,203,205,210,215,250,270,300,305,310])\n",
    "y = np.array([1,1,1,1,1,1,1,0,1  ,0,0,0,0,0,0,0])\n",
    "plt.scatter(x,y)\n",
    "plt.title(\"Pricing Bids\")\n",
    "plt.xlabel('Price')\n",
    "plt.ylabel('Status (1:Won, 0:Lost)')"
   ]
  },
  {
   "cell_type": "markdown",
   "metadata": {},
   "source": [
    "<h2>Model</h2>"
   ]
  },
  {
   "cell_type": "code",
   "execution_count": 80,
   "metadata": {
    "collapsed": true
   },
   "outputs": [],
   "source": [
    "from sklearn.linear_model import LogisticRegression\n",
    "logreg = LogisticRegression(C=1e5, solver='lbfgs', multi_class='multinomial')"
   ]
  },
  {
   "cell_type": "code",
   "execution_count": 81,
   "metadata": {},
   "outputs": [
    {
     "data": {
      "text/plain": [
       "LogisticRegression(C=100000.0, class_weight=None, dual=False,\n",
       "          fit_intercept=True, intercept_scaling=1, max_iter=100,\n",
       "          multi_class='multinomial', n_jobs=1, penalty='l2',\n",
       "          random_state=None, solver='lbfgs', tol=0.0001, verbose=0,\n",
       "          warm_start=False)"
      ]
     },
     "execution_count": 81,
     "metadata": {},
     "output_type": "execute_result"
    }
   ],
   "source": [
    "#Convert a 1D array to a 2D array in numpy\n",
    "X = x.reshape(-1,1)\n",
    "logreg.fit(X, y)"
   ]
  },
  {
   "cell_type": "code",
   "execution_count": 82,
   "metadata": {},
   "outputs": [],
   "source": [
    "#logreg.predict(x.reshape(-1,1))\n",
    "predictions = logreg.predict_proba(X)"
   ]
  },
  {
   "cell_type": "code",
   "execution_count": 92,
   "metadata": {},
   "outputs": [
    {
     "name": "stdout",
     "output_type": "stream",
     "text": [
      "P_Loss: 0.000000 - P_Win: 1.000000\n",
      "P_Loss: 0.000000 - P_Win: 1.000000\n",
      "P_Loss: 0.000000 - P_Win: 1.000000\n",
      "P_Loss: 0.000074 - P_Win: 0.999926\n",
      "P_Loss: 0.207007 - P_Win: 0.792993\n",
      "P_Loss: 0.207007 - P_Win: 0.792993\n",
      "P_Loss: 0.310328 - P_Win: 0.689672\n",
      "P_Loss: 0.371370 - P_Win: 0.628630\n",
      "P_Loss: 0.504534 - P_Win: 0.495466\n",
      "P_Loss: 0.798884 - P_Win: 0.201116\n",
      "P_Loss: 0.939377 - P_Win: 0.060623\n",
      "P_Loss: 0.999995 - P_Win: 0.000005\n",
      "P_Loss: 1.000000 - P_Win: 0.000000\n",
      "P_Loss: 1.000000 - P_Win: 0.000000\n",
      "P_Loss: 1.000000 - P_Win: 0.000000\n",
      "P_Loss: 1.000000 - P_Win: 0.000000\n"
     ]
    }
   ],
   "source": [
    "for pred in predictions:\n",
    "    p_loss, p_win = pred\n",
    "    print('P_Loss: {:f} - P_Win: {:f}'.format(p_loss,p_win))"
   ]
  },
  {
   "cell_type": "code",
   "execution_count": 93,
   "metadata": {},
   "outputs": [
    {
     "name": "stdout",
     "output_type": "stream",
     "text": [
      "probability of winning a bid at #200 dollars: [[0.20700651 0.79299349]]\n"
     ]
    }
   ],
   "source": [
    "print('probability of winning a bid at #200 dollars:', logreg.predict_proba([[200]]))"
   ]
  },
  {
   "cell_type": "code",
   "execution_count": null,
   "metadata": {
    "collapsed": true
   },
   "outputs": [],
   "source": []
  }
 ],
 "metadata": {
  "kernelspec": {
   "display_name": "Python 3",
   "language": "python",
   "name": "python3"
  },
  "language_info": {
   "codemirror_mode": {
    "name": "ipython",
    "version": 3
   },
   "file_extension": ".py",
   "mimetype": "text/x-python",
   "name": "python",
   "nbconvert_exporter": "python",
   "pygments_lexer": "ipython3",
   "version": "3.6.1"
  }
 },
 "nbformat": 4,
 "nbformat_minor": 2
}
