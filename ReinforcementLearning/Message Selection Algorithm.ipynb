{
 "cells": [
  {
   "cell_type": "code",
   "execution_count": 37,
   "metadata": {},
   "outputs": [],
   "source": [
    "import pandas as pd\n",
    "import os as os\n",
    "import numpy as np\n",
    "import matplotlib.pyplot as plt\n",
    "import random\n",
    "import math\n",
    "import seaborn as sns\n",
    "plt.style.use('seaborn-whitegrid')\n",
    "\n",
    "\n",
    "%matplotlib inline"
   ]
  },
  {
   "cell_type": "code",
   "execution_count": 59,
   "metadata": {},
   "outputs": [],
   "source": [
    "#Generate Data\n",
    "user = list(range(0,10000))\n",
    "m1 = np.random.normal(100,5,10000)\n",
    "m2 = np.random.normal(100,20,10000)\n",
    "m3 = np.random.normal(100,15,10000)\n",
    "m4 = np.random.normal(100,10,10000)\n",
    "\n",
    "df = pd.DataFrame({\"user\":user, \"m1\":m1,\"m2\":m2,\"m3\":m3,\"m4\":m4})"
   ]
  },
  {
   "cell_type": "code",
   "execution_count": 60,
   "metadata": {},
   "outputs": [
    {
     "data": {
      "text/plain": [
       "Text(0.5, 1.0, 'Distribution of Revenue by Message')"
      ]
     },
     "execution_count": 60,
     "metadata": {},
     "output_type": "execute_result"
    },
    {
     "data": {
      "image/png": "[encoded data removed]",
      "text/plain": [
       "<Figure size 432x288 with 1 Axes>"
      ]
     },
     "metadata": {
      "needs_background": "light"
     },
     "output_type": "display_data"
    }
   ],
   "source": [
    "sns.boxplot(x=\"variable\", y=\"value\", data=pd.melt(df[['m1','m2','m3','m4']]))\n",
    "plt.title(\"Distribution of Revenue by Message\")"
   ]
  },
  {
   "cell_type": "code",
   "execution_count": 61,
   "metadata": {},
   "outputs": [],
   "source": [
    "#Initialization\n",
    "N = len(df.index)               # no of iterations\n",
    "d = 4                   # no of ad versions\n",
    "ad_selected = []       #List to store diff ad versions selected over iterations                 \n",
    "no_selection = [0] * d #List to store no of times diff ad versions selected\n",
    "sum_reward = [0] * d   #List to store no of clicks diff ad versions get upto round N\n",
    "total_reward_ucb = 0   # To store Total No clicks upto round N"
   ]
  },
  {
   "cell_type": "code",
   "execution_count": 63,
   "metadata": {},
   "outputs": [],
   "source": [
    "#loop through no of rounds \n",
    "for i in range(0,N):\n",
    "    max_upper_bnd = 0\n",
    "    ad = 0"
   ]
  },
  {
   "cell_type": "code",
   "execution_count": null,
   "metadata": {},
   "outputs": [],
   "source": []
  }
 ],
 "metadata": {
  "kernelspec": {
   "display_name": "Python 3",
   "language": "python",
   "name": "python3"
  },
  "language_info": {
   "codemirror_mode": {
    "name": "ipython",
    "version": 3
   },
   "file_extension": ".py",
   "mimetype": "text/x-python",
   "name": "python",
   "nbconvert_exporter": "python",
   "pygments_lexer": "ipython3",
   "version": "3.6.8"
  }
 },
 "nbformat": 4,
 "nbformat_minor": 2
}
