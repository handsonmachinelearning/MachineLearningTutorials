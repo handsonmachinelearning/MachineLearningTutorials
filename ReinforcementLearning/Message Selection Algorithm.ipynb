{
 "cells": [
  {
   "cell_type": "code",
   "execution_count": 128,
   "metadata": {},
   "outputs": [],
   "source": [
    "#import os as os\n",
    "\n",
    "import math\n",
    "import random\n",
    "import seaborn as sns\n",
    "import pandas as pd\n",
    "import numpy as np\n",
    "import matplotlib.pyplot as plt\n",
    "plt.style.use('seaborn-whitegrid')\n",
    "%matplotlib inline"
   ]
  },
  {
   "cell_type": "code",
   "execution_count": 129,
   "metadata": {},
   "outputs": [],
   "source": [
    "#Generate Data\n",
    "user = list(range(0,10000))\n",
    "m1 = np.random.normal(100,10,10000)\n",
    "m2 = np.random.normal(105,5,10000)\n",
    "m3 = np.random.normal(95,10,10000)\n",
    "m4 = np.random.normal(100,5,10000)\n",
    "\n",
    "df = pd.DataFrame({\"user\":user, \"m1\":m1,\"m2\":m2,\"m3\":m3,\"m4\":m4})\n",
    "df.head()"
   ]
  },
  {
   "cell_type": "code",
   "execution_count": 135,
   "metadata": {},
   "outputs": [
    {
     "data": {
      "text/html": [
       "<div>\n",
       "<style scoped>\n",
       "    .dataframe tbody tr th:only-of-type {\n",
       "        vertical-align: middle;\n",
       "    }\n",
       "\n",
       "    .dataframe tbody tr th {\n",
       "        vertical-align: top;\n",
       "    }\n",
       "\n",
       "    .dataframe thead th {\n",
       "        text-align: right;\n",
       "    }\n",
       "</style>\n",
       "<table border=\"1\" class=\"dataframe\">\n",
       "  <thead>\n",
       "    <tr style=\"text-align: right;\">\n",
       "      <th></th>\n",
       "      <th>user</th>\n",
       "      <th>m1</th>\n",
       "      <th>m2</th>\n",
       "      <th>m3</th>\n",
       "      <th>m4</th>\n",
       "    </tr>\n",
       "  </thead>\n",
       "  <tbody>\n",
       "    <tr>\n",
       "      <th>0</th>\n",
       "      <td>0</td>\n",
       "      <td>96.488374</td>\n",
       "      <td>102.488969</td>\n",
       "      <td>98.411450</td>\n",
       "      <td>95.591265</td>\n",
       "    </tr>\n",
       "    <tr>\n",
       "      <th>1</th>\n",
       "      <td>1</td>\n",
       "      <td>117.917767</td>\n",
       "      <td>103.069411</td>\n",
       "      <td>89.240895</td>\n",
       "      <td>98.957220</td>\n",
       "    </tr>\n",
       "    <tr>\n",
       "      <th>2</th>\n",
       "      <td>2</td>\n",
       "      <td>101.247928</td>\n",
       "      <td>99.116378</td>\n",
       "      <td>96.894174</td>\n",
       "      <td>95.478400</td>\n",
       "    </tr>\n",
       "    <tr>\n",
       "      <th>3</th>\n",
       "      <td>3</td>\n",
       "      <td>101.201701</td>\n",
       "      <td>98.068840</td>\n",
       "      <td>89.819683</td>\n",
       "      <td>102.803309</td>\n",
       "    </tr>\n",
       "    <tr>\n",
       "      <th>4</th>\n",
       "      <td>4</td>\n",
       "      <td>95.895845</td>\n",
       "      <td>106.546823</td>\n",
       "      <td>97.435585</td>\n",
       "      <td>102.942527</td>\n",
       "    </tr>\n",
       "  </tbody>\n",
       "</table>\n",
       "</div>"
      ],
      "text/plain": [
       "   user          m1          m2         m3          m4\n",
       "0     0   96.488374  102.488969  98.411450   95.591265\n",
       "1     1  117.917767  103.069411  89.240895   98.957220\n",
       "2     2  101.247928   99.116378  96.894174   95.478400\n",
       "3     3  101.201701   98.068840  89.819683  102.803309\n",
       "4     4   95.895845  106.546823  97.435585  102.942527"
      ]
     },
     "execution_count": 135,
     "metadata": {},
     "output_type": "execute_result"
    }
   ],
   "source": [
    "df.head()"
   ]
  },
  {
   "cell_type": "code",
   "execution_count": 138,
   "metadata": {},
   "outputs": [
    {
     "data": {
      "image/png": "[encoded data removed]",
      "text/plain": [
       "<Figure size 432x288 with 1 Axes>"
      ]
     },
     "metadata": {
      "needs_background": "light"
     },
     "output_type": "display_data"
    }
   ],
   "source": [
    "sns.boxplot(x=\"variable\", y=\"value\", data=pd.melt(df[['m1','m2','m3','m4']]))\n",
    "plt.title(\"Distribution of Rewards by Message\")\n",
    "plt.savefig(\".\\img.png\")"
   ]
  },
  {
   "cell_type": "code",
   "execution_count": 132,
   "metadata": {},
   "outputs": [],
   "source": [
    "#df = pd.read_csv(\"./Ads_Optimisation.csv\")\n",
    "#df.head()"
   ]
  },
  {
   "cell_type": "markdown",
   "metadata": {},
   "source": [
    "<h2>Upper Confidence Bound Algorithm</h2>"
   ]
  },
  {
   "cell_type": "code",
   "execution_count": 133,
   "metadata": {},
   "outputs": [],
   "source": [
    "#Initialization\n",
    "N = len(df.index)       # number of iterations\n",
    "d = 4                   # number of possible messages\n",
    "Qt_a = 0\n",
    "Nt_a = np.zeros(d) #number of times action a has been selected prior to T\n",
    "                            #If Nt(a) = 0, then a is considered to be a maximizing action.\n",
    "c = 5                       #a number greater than = that controls the degree of exploration\n",
    "\n",
    "sum_rewards = np.zeros(d) #cumulative sum of reward by selecting message\n",
    "\n",
    "#loop through no of rounds \n",
    "hist_t = [] #holds the natural log\n",
    "hist_achieved_rewards = [] #holds the history of the cumulative rewards chosen\n",
    "hist_best_possible_rewards = [] #holds the history of cumulative optimal rewards\n",
    "hist_random_choice_rewards = [] #holds the history of actions selected by random\n",
    "\n",
    "#t = time\n",
    "for t in range(0,N):\n",
    "    UCB_Values = np.zeros(d) #array holding the ucb values. we pick the max\n",
    "    max_upper_bnd = 0\n",
    "    ad = 0\n",
    "    \n",
    "    action_selected = 0\n",
    "    for a in range(0, d):\n",
    "        if (Nt_a[a] > 0):\n",
    "            ln_t = math.log(t) #natural log of t\n",
    "            hist_t.append(ln_t) #to plot natural log of t\n",
    "\n",
    "            #calculate the UCB\n",
    "            Qt_a = sum_rewards[a]/Nt_a[a]\n",
    "            ucb_value = Qt_a + c*(ln_t/Nt_a[a]) \n",
    "            UCB_Values[a] = ucb_value\n",
    "\n",
    "        #if this equals zero, choose as the maximum. Cant divide by negative     \n",
    "        elif (Nt_a[a] == 0):\n",
    "            UCB_Values[a] = 1e500 #make large value\n",
    "        \n",
    "    #select the max value\n",
    "    action_selected = np.argmax(UCB_Values)\n",
    "    #print(\"selected {0}\".format(action_selected))\n",
    "    \n",
    "    #Update Values\n",
    "    Nt_a[action_selected] += 1\n",
    "    reward = df.values[t, action_selected+1]\n",
    "    sum_rewards[action_selected] += reward\n",
    "    \n",
    "    #for analysis\n",
    "    r_ = df.values[t,[1,2,3,4]] #get all rewards for time t to a vector\n",
    "    r_best = r_[np.argmax(r_)]      #select the best action\n",
    "    \n",
    "    pick_random = random.randrange(d)\n",
    "    r_random = r_[pick_random] #np.random.choice(r_) #select reward for random action\n",
    "    if len(hist_achieved_rewards)>0:\n",
    "        hist_achieved_rewards.append(hist_achieved_rewards[-1]+reward)\n",
    "        hist_best_possible_rewards.append(hist_best_possible_rewards[-1]+r_best)\n",
    "        hist_random_choice_rewards.append(hist_random_choice_rewards[-1]+r_random)\n",
    "    else:\n",
    "        hist_achieved_rewards.append(reward)\n",
    "        hist_best_possible_rewards.append(r_best)\n",
    "        hist_random_choice_rewards.append(r_random)"
   ]
  },
  {
   "cell_type": "code",
   "execution_count": 134,
   "metadata": {},
   "outputs": [
    {
     "data": {
      "text/plain": [
       "<BarContainer object of 4 artists>"
      ]
     },
     "execution_count": 134,
     "metadata": {},
     "output_type": "execute_result"
    },
    {
     "data": {
      "image/png": "[encoded data removed]",
      "text/plain": [
       "<Figure size 432x288 with 1 Axes>"
      ]
     },
     "metadata": {
      "needs_background": "light"
     },
     "output_type": "display_data"
    }
   ],
   "source": [
    "plt.bar(['m1','m2','m3','m4'],Nt_a)\n",
    "#plt.bar([0,1,2,3,4,5,6,7,8,9],Nt_a)"
   ]
  },
  {
   "cell_type": "code",
   "execution_count": 114,
   "metadata": {},
   "outputs": [
    {
     "data": {
      "text/plain": [
       "Text(0.5, 1.0, 'Rewards Achieved')"
      ]
     },
     "execution_count": 114,
     "metadata": {},
     "output_type": "execute_result"
    },
    {
     "data": {
      "image/png": "[encoded data removed]",
      "text/plain": [
       "<Figure size 432x288 with 1 Axes>"
      ]
     },
     "metadata": {
      "needs_background": "light"
     },
     "output_type": "display_data"
    }
   ],
   "source": [
    "plt.plot(hist_best_possible_rewards)\n",
    "plt.title(\"Rewards Achieved\")"
   ]
  },
  {
   "cell_type": "code",
   "execution_count": 83,
   "metadata": {},
   "outputs": [
    {
     "data": {
      "text/plain": [
       "2322"
      ]
     },
     "execution_count": 83,
     "metadata": {},
     "output_type": "execute_result"
    },
    {
     "data": {
      "image/png": "[encoded data removed]",
      "text/plain": [
       "<Figure size 432x288 with 1 Axes>"
      ]
     },
     "metadata": {
      "needs_background": "light"
     },
     "output_type": "display_data"
    }
   ],
   "source": [
    "plt.plot(hist_achieved_rewards)\n",
    "plt.title(\"Rewards Achieved\")\n",
    "hist_achieved_rewards[-1]"
   ]
  },
  {
   "cell_type": "code",
   "execution_count": 84,
   "metadata": {},
   "outputs": [
    {
     "data": {
      "text/plain": [
       "1262"
      ]
     },
     "execution_count": 84,
     "metadata": {},
     "output_type": "execute_result"
    },
    {
     "data": {
      "image/png": "[encoded data removed]",
      "text/plain": [
       "<Figure size 432x288 with 1 Axes>"
      ]
     },
     "metadata": {
      "needs_background": "light"
     },
     "output_type": "display_data"
    }
   ],
   "source": [
    "plt.plot(hist_random_choice_rewards)\n",
    "plt.title(\"Rewards Achieved\")\n",
    "hist_random_choice_rewards[-1]"
   ]
  },
  {
   "cell_type": "code",
   "execution_count": 55,
   "metadata": {},
   "outputs": [
    {
     "data": {
      "text/plain": [
       "array([3.000e+00, 9.991e+03, 4.000e+00, 2.000e+00])"
      ]
     },
     "execution_count": 55,
     "metadata": {},
     "output_type": "execute_result"
    }
   ],
   "source": [
    "Nt_a"
   ]
  },
  {
   "cell_type": "code",
   "execution_count": 56,
   "metadata": {},
   "outputs": [
    {
     "data": {
      "text/plain": [
       "array([3.000e+00, 9.991e+03, 4.000e+00, 2.000e+00])"
      ]
     },
     "execution_count": 56,
     "metadata": {},
     "output_type": "execute_result"
    }
   ],
   "source": [
    "Nt_a"
   ]
  },
  {
   "cell_type": "code",
   "execution_count": null,
   "metadata": {},
   "outputs": [],
   "source": [
    "plt.plot(hist_t)\n",
    "plt.title(\"Natural Log of t\")"
   ]
  },
  {
   "cell_type": "code",
   "execution_count": null,
   "metadata": {},
   "outputs": [],
   "source": [
    "Nt_a"
   ]
  },
  {
   "cell_type": "code",
   "execution_count": null,
   "metadata": {},
   "outputs": [],
   "source": [
    "q = [1,10,3]\n",
    "np.random.choice(q)"
   ]
  },
  {
   "cell_type": "code",
   "execution_count": null,
   "metadata": {},
   "outputs": [],
   "source": [
    "Nt_a"
   ]
  },
  {
   "cell_type": "code",
   "execution_count": null,
   "metadata": {},
   "outputs": [],
   "source": [
    "total_cum_rewards = []\n",
    "sum_rewards = np.zeros(d)\n",
    "\n",
    "sum_rewards[2] = 10\n",
    "total_cum_rewards.append(sum_rewards)\n",
    "\n",
    "sum_rewards[1] = 15\n",
    "total_cum_rewards.append(sum_rewards)\n",
    "\n",
    "total_cum_rewards"
   ]
  },
  {
   "cell_type": "code",
   "execution_count": null,
   "metadata": {},
   "outputs": [],
   "source": [
    "r = [1,2,3]\n",
    "r[-1]"
   ]
  },
  {
   "cell_type": "code",
   "execution_count": null,
   "metadata": {},
   "outputs": [],
   "source": [
    "r_ = df.values[2,[1,2,3,4]]\n",
    "r_[np.argmax(r_)]"
   ]
  },
  {
   "cell_type": "code",
   "execution_count": null,
   "metadata": {},
   "outputs": [],
   "source": [
    " df.values[2,[1,2,3,4]]"
   ]
  },
  {
   "cell_type": "code",
   "execution_count": null,
   "metadata": {},
   "outputs": [],
   "source": [
    "r_ = df.values[2,[1,2,3,4]]\n",
    "r_ = np.random.choice(r_)"
   ]
  },
  {
   "cell_type": "code",
   "execution_count": null,
   "metadata": {},
   "outputs": [],
   "source": [
    "np.random.choice(r_)"
   ]
  },
  {
   "cell_type": "code",
   "execution_count": null,
   "metadata": {},
   "outputs": [],
   "source": []
  }
 ],
 "metadata": {
  "kernelspec": {
   "display_name": "Python 3",
   "language": "python",
   "name": "python3"
  },
  "language_info": {
   "codemirror_mode": {
    "name": "ipython",
    "version": 3
   },
   "file_extension": ".py",
   "mimetype": "text/x-python",
   "name": "python",
   "nbconvert_exporter": "python",
   "pygments_lexer": "ipython3",
   "version": "3.6.9"
  }
 },
 "nbformat": 4,
 "nbformat_minor": 2
}
