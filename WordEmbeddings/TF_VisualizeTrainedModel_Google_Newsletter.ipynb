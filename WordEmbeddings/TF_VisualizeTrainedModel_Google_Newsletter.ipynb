{
 "cells": [
  {
   "cell_type": "code",
   "execution_count": 1,
   "metadata": {},
   "outputs": [
    {
     "name": "stderr",
     "output_type": "stream",
     "text": [
      "e:\\my_files\\anaconda3\\envs\\pabase\\lib\\site-packages\\gensim\\utils.py:1197: UserWarning: detected Windows; aliasing chunkize to chunkize_serial\n",
      "  warnings.warn(\"detected Windows; aliasing chunkize to chunkize_serial\")\n"
     ]
    }
   ],
   "source": [
    "import numpy as np\n",
    "import gensim\n",
    "from gensim.models import Word2Vec,KeyedVectors\n",
    "\n",
    "import tensorflow as tf\n",
    "from tensorflow.contrib.tensorboard.plugins import projector"
   ]
  },
  {
   "cell_type": "markdown",
   "metadata": {},
   "source": [
    "<h3>Load Saved Model</h3>"
   ]
  },
  {
   "cell_type": "code",
   "execution_count": 2,
   "metadata": {},
   "outputs": [],
   "source": [
    "FOLDER_PATH = \"E:/TEMP/GGL_W2V\"\n",
    "\n",
    "# Load Google's pre-trained Word2Vec model.\n",
    "model = KeyedVectors.load_word2vec_format(FOLDER_PATH+'/GoogleNews-vectors-negative300.bin', binary=True)  "
   ]
  },
  {
   "cell_type": "code",
   "execution_count": 3,
   "metadata": {},
   "outputs": [
    {
     "name": "stdout",
     "output_type": "stream",
     "text": [
      "Vocabulary Size: 3000000\n"
     ]
    }
   ],
   "source": [
    "print(\"Vocabulary Size: {0}\".format(len(model.vocab)))\n",
    "#3,000,000"
   ]
  },
  {
   "cell_type": "code",
   "execution_count": 4,
   "metadata": {},
   "outputs": [],
   "source": [
    "VOCAB_SIZE = len(model.vocab)-1\n",
    "EMBEDDING_DIM = model[\"is\"].shape[0]#model.trainables.layer1_size\n",
    "\n",
    "w2v = np.zeros((VOCAB_SIZE, EMBEDDING_DIM))"
   ]
  },
  {
   "cell_type": "markdown",
   "metadata": {},
   "source": [
    "<h3>Prepare Vocab File</h3>"
   ]
  },
  {
   "cell_type": "code",
   "execution_count": 5,
   "metadata": {},
   "outputs": [],
   "source": [
    "#save .tsv with vocabulary\n",
    "tsv_file_path = FOLDER_PATH+\"/tensorboard/metadata.tsv\"\n",
    "with open(tsv_file_path,'w+', encoding='utf-8') as file_metadata:\n",
    "    for i,word in enumerate(model.index2word[:VOCAB_SIZE]):\n",
    "        w2v[i] = model[word]\n",
    "        file_metadata.write(word+'\\n')"
   ]
  },
  {
   "cell_type": "markdown",
   "metadata": {},
   "source": [
    "<h3>Tensorflow Projector</h3>"
   ]
  },
  {
   "cell_type": "code",
   "execution_count": 6,
   "metadata": {},
   "outputs": [],
   "source": [
    "TENSORBOARD_FILES_PATH = FOLDER_PATH+\"/tensorboard\"\n",
    "\n",
    "#Tensorflow Graph Variables\n",
    "X_init = tf.placeholder(tf.float32, shape=(VOCAB_SIZE, EMBEDDING_DIM), name=\"embedding\")\n",
    "X = tf.Variable(X_init)\n",
    "\n",
    "#Initialize Variables\n",
    "init = tf.global_variables_initializer()\n",
    "\n",
    "sess = tf.Session()\n",
    "#sess.run(tf.initialize_all_variables(), feed_dict={X_init: w2v})\n",
    "sess.run(init, feed_dict={X_init: w2v})\n",
    "\n",
    "saver = tf.train.Saver()\n",
    "writer = tf.summary.FileWriter(TENSORBOARD_FILES_PATH, sess.graph)\n",
    "\n",
    "#projector\n",
    "config = projector.ProjectorConfig()\n",
    "embed = config.embeddings.add()\n",
    "embed.metadata_path = tsv_file_path"
   ]
  },
  {
   "cell_type": "code",
   "execution_count": 7,
   "metadata": {},
   "outputs": [
    {
     "data": {
      "text/plain": [
       "'E:/TEMP/GGL_W2V/tensorboard/model.ckpt-2999999'"
      ]
     },
     "execution_count": 7,
     "metadata": {},
     "output_type": "execute_result"
    }
   ],
   "source": [
    "projector.visualize_embeddings(writer,config)\n",
    "saver.save(sess, TENSORBOARD_FILES_PATH+'/model.ckpt', global_step = VOCAB_SIZE)\n",
    "\n",
    "#run python -m tensorboard.main --logdir=C:\\...."
   ]
  },
  {
   "cell_type": "code",
   "execution_count": 8,
   "metadata": {},
   "outputs": [],
   "source": [
    "sess.close()"
   ]
  },
  {
   "cell_type": "code",
   "execution_count": null,
   "metadata": {},
   "outputs": [],
   "source": [
    "w2v.shape"
   ]
  },
  {
   "cell_type": "markdown",
   "metadata": {},
   "source": [
    "<h3>Scrap Code</h3>"
   ]
  },
  {
   "cell_type": "code",
   "execution_count": null,
   "metadata": {},
   "outputs": [],
   "source": [
    "TENSORBOARD_FILES_PATH = FOLDER_PATH+\"/tensorboard\"\n",
    "\n",
    "sess = tf.Session()\n",
    "\n",
    "X_init = tf.placeholder(tf.float32, shape=(VOCAB_SIZE, EMBEDDING_DIM))\n",
    "X = tf.Variable(X_init)\n",
    "# The rest of the setup...\n",
    "sess.run(tf.initialize_all_variables(), feed_dict={X_init: w2v})"
   ]
  },
  {
   "cell_type": "code",
   "execution_count": null,
   "metadata": {},
   "outputs": [],
   "source": [
    "saver = tf.train.Saver()\n",
    "writer = tf.summary.FileWriter(TENSORBOARD_FILES_PATH, sess.graph)\n",
    "\n",
    "#projector\n",
    "config = projector.ProjectorConfig()\n",
    "embed = config.embeddings.add()\n",
    "embed.metadata_path = tsv_file_path"
   ]
  },
  {
   "cell_type": "code",
   "execution_count": null,
   "metadata": {},
   "outputs": [],
   "source": [
    "projector.visualize_embeddings(writer,config)\n",
    "saver.save(sess, TENSORBOARD_FILES_PATH+'/model.ckpt', global_step = VOCAB_SIZE)"
   ]
  },
  {
   "cell_type": "code",
   "execution_count": null,
   "metadata": {},
   "outputs": [],
   "source": [
    "sess.close()"
   ]
  },
  {
   "cell_type": "code",
   "execution_count": null,
   "metadata": {},
   "outputs": [],
   "source": [
    "TENSORBOARD_FILES_PATH = FOLDER_PATH+\"\\tensorboard\"\n",
    "sess = tf.InteractiveSession()\n",
    "\n",
    "with tf.device(\"/cpu:0\"):\n",
    "    embedding = tf.Variable(w2v, trainable=False, name = \"embedding\")\n",
    "\n",
    "tf.global_variables_initializer().run()\n",
    "saver = tf.train.Saver()\n",
    "writer = tf.summary.FileWriter(TENSORBOARD_FILES_PATH, sess.graph)\n",
    "\n",
    "#projector\n",
    "config = projector.ProjectorConfig()\n",
    "embed = config.embeddings.add()\n",
    "embed.metadata_path = tsv_file_path"
   ]
  }
 ],
 "metadata": {
  "kernelspec": {
   "display_name": "Python 3",
   "language": "python",
   "name": "python3"
  },
  "language_info": {
   "codemirror_mode": {
    "name": "ipython",
    "version": 3
   },
   "file_extension": ".py",
   "mimetype": "text/x-python",
   "name": "python",
   "nbconvert_exporter": "python",
   "pygments_lexer": "ipython3",
   "version": "3.6.2"
  }
 },
 "nbformat": 4,
 "nbformat_minor": 2
}
