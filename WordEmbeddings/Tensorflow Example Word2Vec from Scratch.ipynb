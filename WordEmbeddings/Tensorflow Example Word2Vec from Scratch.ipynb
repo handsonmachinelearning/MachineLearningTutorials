{
 "cells": [
  {
   "cell_type": "code",
   "execution_count": null,
   "metadata": {},
   "outputs": [],
   "source": [
    "import tensorflow as tf\n"
   ]
  },
  {
   "cell_type": "code",
   "execution_count": null,
   "metadata": {},
   "outputs": [],
   "source": [
    "SENTENCES = [\"machine learning engineers can build great data models\",\n",
    "             \"machine learning is a great new tool\",\n",
    "             \"machine learning gives value to your data\",\n",
    "             \"machine learning and data is all you need\"\n",
    "            ]"
   ]
  },
  {
   "cell_type": "code",
   "execution_count": null,
   "metadata": {},
   "outputs": [],
   "source": [
    "from collections import Counter\n",
    "import json\n",
    "import numpy as np\n",
    "class Vocabulary:\n",
    "    \n",
    "    def __init__(self, vocabulary, wordFrequencyFilePath):\n",
    "        self.vocabulary = vocabulary\n",
    "        self.BAG_OF_WORDS_FILE_FULL_PATH = wordFrequencyFilePath\n",
    "        self.input_word_index = {}\n",
    "        self.reverse_input_word_index = {}\n",
    "        \n",
    "        self.input_word_index[\"START\"] = 1\n",
    "        self.input_word_index[\"UNKOWN\"] = -1\n",
    "        self.MaxSentenceLength = None\n",
    "        \n",
    "    def PrepareVocabulary(self,reviews):\n",
    "        self._prepare_Bag_of_Words_File(reviews)\n",
    "        self._create_Vocab_Indexes()\n",
    "        \n",
    "        self.MaxSentenceLength = max([len(txt.split(\" \")) for txt in reviews])\n",
    "      \n",
    "    def Get_Top_Words(self, number_words = None):\n",
    "        if number_words == None:\n",
    "            number_words = self.vocabulary\n",
    "        \n",
    "        chars = json.loads(open(self.BAG_OF_WORDS_FILE_FULL_PATH).read())\n",
    "        counter = Counter(chars)\n",
    "        most_popular_words = {key for key, _value in counter.most_common(number_words)}\n",
    "        return most_popular_words\n",
    "    \n",
    "    def _prepare_Bag_of_Words_File(self,reviews):\n",
    "        counter = Counter()    \n",
    "        for s in reviews:\n",
    "            counter.update(s.split(\" \"))\n",
    "            \n",
    "        with open(self.BAG_OF_WORDS_FILE_FULL_PATH, 'w') as output_file:\n",
    "            output_file.write(json.dumps(counter))\n",
    "                 \n",
    "    def _create_Vocab_Indexes(self):\n",
    "        INPUT_WORDS = self.Get_Top_Words(self.vocabulary)\n",
    "\n",
    "        #word to int\n",
    "        #self.input_word_index = dict(\n",
    "        #    [(word, i) for i, word in enumerate(INPUT_WORDS)])\n",
    "        for i, word in enumerate(INPUT_WORDS):\n",
    "            self.input_word_index[word] = i\n",
    "        \n",
    "        #int to word\n",
    "        #self.reverse_input_word_index = dict(\n",
    "        #    (i, word) for word, i in self.input_word_index.items())\n",
    "        for word, i in self.input_word_index.items():\n",
    "            self.reverse_input_word_index[i] = word\n",
    "\n",
    "        #self.input_word_index = input_word_index\n",
    "        #self.reverse_input_word_index = reverse_input_word_index\n",
    "        #seralize.dump(config.DATA_FOLDER_PATH+\"input_word_index.p\",input_word_index)\n",
    "        #seralize.dump(config.DATA_FOLDER_PATH+\"reverse_input_word_index.p\",reverse_input_word_index)\n",
    "        \n",
    "        \n",
    "    def _word_to_One_Hot_Vector(self, word):\n",
    "        vector = np.zeros(self.vocabulary)\n",
    "        vector[vocab.input_word_index[word]] = 1\n",
    "        return vector\n",
    "        \n",
    "    def TransformSentencesToId(self, sentences):\n",
    "        vectors = []\n",
    "        for r in sentences:\n",
    "            words = r.split(\" \")\n",
    "            vector = np.zeros(len(words))\n",
    "\n",
    "            for t, word in enumerate(words):\n",
    "                if word in self.input_word_index:\n",
    "                    vector[t] = self.input_word_index[word]\n",
    "                else:\n",
    "                    pass\n",
    "                    #vector[t] = 2 #unk\n",
    "            vectors.append(vector)\n",
    "            \n",
    "        return vectors\n",
    "    \n",
    "    def ReverseTransformSentencesToId(self, sentences):\n",
    "        vectors = []\n",
    "        for r in sentences:\n",
    "            words = r.split(\" \")\n",
    "            vector = np.zeros(len(words))\n",
    "\n",
    "            for t, word in enumerate(words):\n",
    "                if word in self.input_word_index:\n",
    "                    vector[t] = self.input_word_index[word]\n",
    "                else:\n",
    "                    pass\n",
    "                    #vector[t] = 2 #unk\n",
    "            vectors.append(vector)\n",
    "            \n",
    "        return vectors\n",
    "    \n",
    "    \n",
    "    def Get_SkipGram_Target_Words(self, sentences, WINDOW_SIZE = 5):\n",
    "        SKIP_GRAM_INPUT_WORD_LIST = []\n",
    "        \n",
    "        for sentence in sentences:\n",
    "            sentence_tokenized = sentence.split(\" \")\n",
    "            \n",
    "            for index, target_word in enumerate(sentence_tokenized):\n",
    "                FROM_INDEX = max(index-WINDOW_SIZE,0)\n",
    "                TO_INDEX = min(index+1+WINDOW_SIZE,len(sentence_tokenized))\n",
    "\n",
    "                for contextWord in sentence_tokenized[FROM_INDEX:TO_INDEX]:\n",
    "                    if contextWord != target_word:\n",
    "                        SKIP_GRAM_INPUT_WORD_LIST.append((target_word,contextWord))\n",
    "                    \n",
    "        return SKIP_GRAM_INPUT_WORD_LIST\n",
    "    \n",
    "    \n",
    "    def Get_SkipGram_Target_Words_OneHotEncoded_XY(self, sentences, WINDOW_SIZE = 5):\n",
    "        Skip_Gram_Target_Words = self.Get_SkipGram_Target_Words(sentences, WINDOW_SIZE)\n",
    "        \n",
    "        X,Y = [],[]\n",
    "        \n",
    "        for target_word, context_word in Skip_Gram_Target_Words:\n",
    "            X.append(self._word_to_One_Hot_Vector(target_word))\n",
    "            Y.append(self._word_to_One_Hot_Vector(context_word))\n",
    "            \n",
    "        return np.asarray(X), np.asarray(Y)"
   ]
  },
  {
   "cell_type": "code",
   "execution_count": null,
   "metadata": {},
   "outputs": [],
   "source": [
    "VOCABULARY_SIZE = 20\n",
    "vocab = Vocabulary(VOCABULARY_SIZE,\"words.vocab\")\n",
    "vocab.PrepareVocabulary(SENTENCES)\n",
    "vocab.Get_Top_Words(5)\n",
    "print(\"Vocabulary of {0} words\".format(len(vocab.Get_Top_Words())))"
   ]
  },
  {
   "cell_type": "code",
   "execution_count": null,
   "metadata": {},
   "outputs": [],
   "source": [
    "SENTENCES[0]"
   ]
  },
  {
   "cell_type": "code",
   "execution_count": null,
   "metadata": {},
   "outputs": [],
   "source": [
    "Skip_Gram_Target_Words = vocab.Get_SkipGram_Target_Words(SENTENCES, WINDOW_SIZE=2)\n",
    "print(Skip_Gram_Target_Words[0:5])"
   ]
  },
  {
   "cell_type": "code",
   "execution_count": null,
   "metadata": {},
   "outputs": [],
   "source": [
    "X_train, Y_train = vocab.Get_SkipGram_Target_Words_OneHotEncoded_XY(SENTENCES,2)"
   ]
  },
  {
   "cell_type": "code",
   "execution_count": 8,
   "metadata": {},
   "outputs": [],
   "source": [
    "print(X_train.shape)\n",
    "print(Y_train.shape)"
   ]
  },
  {
   "cell_type": "code",
   "execution_count": 9,
   "metadata": {},
   "outputs": [],
   "source": [
    "VOCABULARY_SIZE"
   ]
  },
  {
   "cell_type": "code",
   "execution_count": 14,
   "metadata": {},
   "outputs": [],
   "source": [
    "EMBEDDING_DIM = 5\n",
    "\n",
    "# Inputs\n",
    "X = tf.placeholder(\"float\", shape=[None, VOCABULARY_SIZE])\n",
    "y = tf.placeholder(\"float\", shape=[None, VOCABULARY_SIZE])\n",
    "\n",
    "# Dictionary of Weights and Biases\n",
    "weights = {\n",
    "  'W1': tf.Variable(tf.random_normal([VOCABULARY_SIZE, EMBEDDING_DIM])),\n",
    "  'W2': tf.Variable(tf.random_normal([EMBEDDING_DIM, VOCABULARY_SIZE])),\n",
    "}\n",
    "\n",
    "biases = {\n",
    "  'b1': tf.Variable(tf.random_normal([EMBEDDING_DIM])),\n",
    "  'b2': tf.Variable(tf.random_normal([VOCABULARY_SIZE])),\n",
    "}\n",
    "\n",
    "\n",
    "# Model Forward Propagation step\n",
    "def forward_propagation(x):\n",
    "    hidden_1 = tf.add(tf.matmul(x, weights['W1']), biases['b1'])   \n",
    "    out_layer = tf.add(tf.matmul(hidden_1, weights['W2']), biases['b2'])\n",
    "    \n",
    "    softmax_out = tf.nn.softmax(out_layer)    \n",
    "    return softmax_out\n",
    "\n",
    "#cost = tf.reduce_mean(tf.nn.softmax_cross_entropy_with_logits(labels=y, logits=yhat))\n",
    "#optimizer = tf.train.GradientDescentOptimizer(learning_rate)\n",
    "\n",
    "yhat = forward_propagation(X)\n",
    "ypredict = tf.argmax(yhat, axis=1)\n",
    "\n",
    "# Backward propagation\n",
    "learning_rate = 0.02\n",
    "cost = tf.reduce_mean(tf.nn.softmax_cross_entropy_with_logits_v2(labels=y, logits=yhat))\n",
    "optimizer = tf.train.GradientDescentOptimizer(learning_rate)\n",
    "#optimizer = tf.train.AdamOptimizer(learning_rate=learning_rate)\n",
    "\n",
    "train_op = optimizer.minimize(cost)"
   ]
  },
  {
   "cell_type": "code",
   "execution_count": 15,
   "metadata": {},
   "outputs": [
    {
     "name": "stdout",
     "output_type": "stream",
     "text": [
      "Epoch = 1, train accuracy = 7.291666666666667%, cost = 2.991915464401245\n",
      "Epoch = 51, train accuracy = 16.666666666666664%, cost = 2.9074742794036865\n",
      "Epoch = 101, train accuracy = 18.75%, cost = 2.89859938621521\n",
      "Epoch = 151, train accuracy = 18.75%, cost = 2.8892109394073486\n",
      "Epoch = 201, train accuracy = 19.791666666666664%, cost = 2.8809940814971924\n",
      "Epoch = 251, train accuracy = 20.833333333333336%, cost = 2.8676044940948486\n",
      "Epoch = 301, train accuracy = 20.833333333333336%, cost = 2.8654215335845947\n",
      "Epoch = 351, train accuracy = 20.833333333333336%, cost = 2.8641796112060547\n",
      "Epoch = 401, train accuracy = 21.875%, cost = 2.8569447994232178\n",
      "Epoch = 451, train accuracy = 21.875%, cost = 2.8540782928466797\n",
      "Time taken: 0:00:12.197000\n"
     ]
    }
   ],
   "source": [
    "# Initializing the variables\n",
    "init = tf.global_variables_initializer()\n",
    "\n",
    "from datetime import datetime\n",
    "startTime = datetime.now()\n",
    "\n",
    "sess = tf.Session()\n",
    "#with tf.Session() as sess:\n",
    "sess.run(init)\n",
    "\n",
    "#writer.add_graph(sess.graph)\n",
    "#EPOCHS\n",
    "for epoch in range(500):\n",
    "    #Stochasting Gradient Descent\n",
    "    for i in range(len(X_train)):\n",
    "        #cross_entropy_loss = tf.reduce_mean(-tf.reduce_sum(y * tf.log(yhat), reduction_indices=[1]))\n",
    "        summary = sess.run(train_op, feed_dict={X: X_train[i: i + 1], y: Y_train[i: i + 1]})\n",
    "\n",
    "    if epoch % 50 == 0:\n",
    "        train_accuracy = np.mean(np.argmax(Y_train, axis=1) == sess.run(ypredict, feed_dict={X: X_train, y: Y_train}))\n",
    "        current_cost_ = sess.run(cost, feed_dict={X: X_train, y: Y_train})\n",
    "        #cross_entropy_loss_val = sess.run(cross_entropy_loss, feed_dict={X: X_train, y: Y_train})\n",
    "\n",
    "        print(\"Epoch = {0}, train accuracy = {1}%, cost = {2}\".format(epoch + 1, 100. * train_accuracy,current_cost_))\n",
    "        \n",
    "        #print(\"Epoch = %d, train accuracy = %.2f%%, train accuracy = %.2f%%\" % (epoch + 1, 100. * train_accuracy, cross_entropy_loss_val))\n",
    "\n",
    "    #sess.close()\n",
    "print(\"Time taken:\", datetime.now() - startTime)\n",
    "\n",
    "\n",
    "\n",
    "#sess.close()"
   ]
  },
  {
   "cell_type": "code",
   "execution_count": 16,
   "metadata": {},
   "outputs": [
    {
     "data": {
      "text/plain": [
       "(96,)"
      ]
     },
     "execution_count": 16,
     "metadata": {},
     "output_type": "execute_result"
    }
   ],
   "source": [
    "ypredict= sess.run(ypredict, feed_dict={X: X_train, y: Y_train})\n",
    "\n",
    "ypredict.shape"
   ]
  },
  {
   "cell_type": "code",
   "execution_count": 17,
   "metadata": {},
   "outputs": [
    {
     "data": {
      "text/plain": [
       "(20, 5)"
      ]
     },
     "execution_count": 17,
     "metadata": {},
     "output_type": "execute_result"
    }
   ],
   "source": [
    "vectors = sess.run(weights['W1'] + biases['b1'])\n",
    "vectors.shape"
   ]
  },
  {
   "cell_type": "code",
   "execution_count": 18,
   "metadata": {},
   "outputs": [
    {
     "name": "stdout",
     "output_type": "stream",
     "text": [
      "[-0.21159199 -1.80345058  1.78221071 -1.50964272  2.91589117]\n",
      "[-1.05467892  0.72682083  0.27032721 -0.59880066  2.81437683]\n"
     ]
    }
   ],
   "source": [
    "print(vectors[vocab.input_word_index['machine']])\n",
    "print(vectors[vocab.input_word_index['learning']])"
   ]
  },
  {
   "cell_type": "markdown",
   "metadata": {},
   "source": [
    "<h2>Plot Embedding</h2>"
   ]
  },
  {
   "cell_type": "code",
   "execution_count": 19,
   "metadata": {},
   "outputs": [
    {
     "name": "stdout",
     "output_type": "stream",
     "text": [
      "(20, 5)\n"
     ]
    }
   ],
   "source": [
    "from sklearn.decomposition import PCA\n",
    "from matplotlib import pyplot as plt\n",
    "\n",
    "X = []\n",
    "for word in vocab.Get_Top_Words():\n",
    "    X.append(vectors[vocab.input_word_index[word]])\n",
    "X = np.asarray(X)\n",
    "\n",
    "print(X.shape)"
   ]
  },
  {
   "cell_type": "code",
   "execution_count": 20,
   "metadata": {},
   "outputs": [],
   "source": [
    "pca = PCA(n_components=2)\n",
    "result = pca.fit_transform(X)"
   ]
  },
  {
   "cell_type": "code",
   "execution_count": 21,
   "metadata": {},
   "outputs": [
    {
     "data": {
      "image/png": "[encoded data removed]",
      "text/plain": [
       "<matplotlib.figure.Figure at 0x12557a58>"
      ]
     },
     "metadata": {
      "needs_background": "light"
     },
     "output_type": "display_data"
    }
   ],
   "source": [
    "# create a scatter plot of the projection\n",
    "plt.figure(figsize=(20,10))\n",
    "plt.scatter(result[:, 0], result[:, 1])\n",
    "words = vocab.Get_Top_Words()\n",
    "for i, word in enumerate(words):\n",
    "    plt.annotate(word, xy=(result[i, 0], result[i, 1]))\n",
    "plt.show()"
   ]
  },
  {
   "cell_type": "code",
   "execution_count": 22,
   "metadata": {},
   "outputs": [],
   "source": [
    "sess.close()"
   ]
  },
  {
   "cell_type": "code",
   "execution_count": null,
   "metadata": {},
   "outputs": [],
   "source": []
  }
 ],
 "metadata": {
  "kernelspec": {
   "display_name": "Python 3",
   "language": "python",
   "name": "python3"
  },
  "language_info": {
   "codemirror_mode": {
    "name": "ipython",
    "version": 3
   },
   "file_extension": ".py",
   "mimetype": "text/x-python",
   "name": "python",
   "nbconvert_exporter": "python",
   "pygments_lexer": "ipython3",
   "version": "3.6.2"
  }
 },
 "nbformat": 4,
 "nbformat_minor": 2
}
