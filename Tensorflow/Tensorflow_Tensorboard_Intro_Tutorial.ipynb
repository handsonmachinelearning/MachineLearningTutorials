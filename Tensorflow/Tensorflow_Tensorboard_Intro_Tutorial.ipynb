{
 "cells": [
  {
   "cell_type": "code",
   "execution_count": 28,
   "metadata": {
    "collapsed": true
   },
   "outputs": [],
   "source": [
    "import tensorflow as tf\n",
    "i=30"
   ]
  },
  {
   "cell_type": "code",
   "execution_count": 44,
   "metadata": {},
   "outputs": [],
   "source": [
    "#Use to not add multiple Results to the same graph when rerunning code below\n",
    "tf.reset_default_graph() \n",
    "with tf.name_scope('Outer'):\n",
    "    \n",
    "    with tf.name_scope('Inner_1'):\n",
    "        matrix1 = tf.constant([[3., 3.]], name=\"matrix1\")\n",
    "        matrix2 = tf.constant([[2.],[2.]], name=\"matrix2\")\n",
    "        product = tf.matmul(matrix1, matrix2, name=\"Result\")\n",
    "        relu_result = tf.nn.relu(product, name=\"Relu\")\n",
    "        \n",
    "    with tf.name_scope('Inner_2'):\n",
    "        constant_1 = tf.constant(25, name=\"constant_1\")\n",
    "        constant_2 = tf.constant(75, name=\"constant_2\")\n",
    "\n",
    "        addition_result = tf.add(constant_1,constant_2)\n",
    "        \n",
    "    #with tf.name_scope('Final_Addition'):\n",
    "        #final_result = tf.add(addition_result,relu_result)"
   ]
  },
  {
   "cell_type": "code",
   "execution_count": 46,
   "metadata": {},
   "outputs": [
    {
     "name": "stdout",
     "output_type": "stream",
     "text": [
      "100\n",
      "\ttensorboard --logdir=C:/MYLOCALFILES/JUPYTER_NOTEBOOKS/IB_ML/IB_NOTEBOOKS/test_graphs/run33/\n",
      "Point your web browser to: http://localhost:6006/\n"
     ]
    }
   ],
   "source": [
    "init = tf.global_variables_initializer()\n",
    "log_path = \"C:/MYLOCALFILES/JUPYTER_NOTEBOOKS/IB_ML/IB_NOTEBOOKS/test_graphs/\" + \"run{0}/\".format(i)\n",
    "with tf.Session() as sess:\n",
    "    writer = tf.summary.FileWriter(log_path, sess.graph)\n",
    "    sess.run(init)\n",
    "    \n",
    "    #Graph\n",
    "    #writer.add_graph(sess.graph)\n",
    "\n",
    "    #get result\n",
    "    summary = sess.run(addition_result)\n",
    "    print(summary)\n",
    "    \n",
    "    writer.close()    \n",
    "    sess.close()\n",
    "\n",
    "#writer = None\n",
    "print(\"\\ttensorboard --logdir=%s\" % (log_path))\n",
    "print(\"Point your web browser to: http://localhost:6006/\")\n",
    "i+=1"
   ]
  },
  {
   "cell_type": "code",
   "execution_count": null,
   "metadata": {
    "collapsed": true
   },
   "outputs": [],
   "source": []
  }
 ],
 "metadata": {
  "kernelspec": {
   "display_name": "Python 3",
   "language": "python",
   "name": "python3"
  },
  "language_info": {
   "codemirror_mode": {
    "name": "ipython",
    "version": 3
   },
   "file_extension": ".py",
   "mimetype": "text/x-python",
   "name": "python",
   "nbconvert_exporter": "python",
   "pygments_lexer": "ipython3",
   "version": "3.6.2"
  }
 },
 "nbformat": 4,
 "nbformat_minor": 2
}
